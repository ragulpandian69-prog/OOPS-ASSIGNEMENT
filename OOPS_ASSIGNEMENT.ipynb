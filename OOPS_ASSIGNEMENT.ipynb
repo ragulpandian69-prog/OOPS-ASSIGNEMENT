{
  "nbformat": 4,
  "nbformat_minor": 0,
  "metadata": {
    "colab": {
      "provenance": []
    },
    "kernelspec": {
      "name": "python3",
      "display_name": "Python 3"
    },
    "language_info": {
      "name": "python"
    }
  },
  "cells": [
    {
      "cell_type": "markdown",
      "source": [
        "1. What is Object-Oriented Programming (OOP)?\n",
        "  - Object-Oriented Programming (OOP) is a programming paradigm based on the concept of \"objects,\" which can contain data and methods (functions) that operate on that data. It aims to organize software design around data, rather than functions and logic.\n",
        "2. What is a class in OOP?\n",
        "  - In OOP, a class is a blueprint or a template for creating objects. It defines the attributes (data) and methods (functions) that all objects created from that class will possess.\n",
        "3. What is an object in OOP?\n",
        "  - An object is an instance of a class. It is a concrete entity created from the class blueprint, possessing its own set of data (attributes) and behaviors (methods) defined by the class.\n",
        "4. What is the difference between abstraction and encapsulation?\n",
        "  - Abstraction focuses on showing only essential information and hiding complex implementation details from the user. Encapsulation, on the other hand, is the bundling of data and the methods that operate on that data within a single unit (e.g., a class), and restricting direct access to some of the object's components.\n",
        "5. What are dunder methods in Python?\n",
        "  - Dunder methods (short for \"double underscore methods\") are special methods in Python that have double underscores at the beginning and end of their names (e.g., __init__, __str__). They are also known as magic methods and allow you to define how objects of your class behave in certain situations, such as initialization, string representation, or arithmetic operations.\n",
        "6. Explain the concept of inheritance in OOP.\n",
        "  - Inheritance is a mechanism in OOP where a new class (subclass or derived class) can inherit attributes and methods from an existing class (superclass or base class). This promotes code reusability and establishes an \"is-a\" relationship between classes.\n",
        "7. What is polymorphism in OOP?\n",
        "  - Polymorphism, meaning \"many forms,\" is the ability of an object to take on many forms. In OOP, it allows objects of different classes to be treated as objects of a common type. This is often achieved through method overriding or method overloading (though true method overloading as in some other languages is not directly supported in Python).\n",
        "8. How is encapsulation achieved in Python?\n",
        "  - Encapsulation in Python is primarily achieved through conventions, rather than strict access modifiers like private or public. Variables intended to be private are typically prefixed with a single underscore (_) or double underscore (__) to indicate they should not be directly accessed from outside the class.\n",
        "9. What is a constructor in Python?\n",
        "  - Python, the __init__ method is the constructor. It is a special method automatically called when a new object of a class is created. Its purpose is to initialize the object's attributes.\n",
        "10. What are class and static methods in Python?\n",
        "  - Class methods are methods bound to the class and not the instance of the class. They receive the class itself as the first argument (conventionally named cls) and are defined using the @classmethod decorator.\n",
        "  - Static methods are methods that belong to a class but do not operate on the instance or the class itself. They are defined using the @staticmethod decorator and do not receive self or cls as their first argument.\n",
        "11. What is method overloading in Python?\n",
        "  - Python does not support traditional method overloading where multiple methods with the same name but different parameters can exist within the same class. Instead, Python relies on default argument values, variable arguments (*args, **kwargs), or dispatching based on argument types.\n",
        "12. What is method overriding in OOP?\n",
        "  - Method overriding is a feature in OOP that allows a subclass to provide a specific implementation of a method that is already defined in its superclass. The overridden method in the subclass has the same name, parameters, and return type as the method in the superclass.\n",
        "13. What is a property decorator in Python?\n",
        "  - The @property decorator in Python is used to define getter, setter, and deleter methods for an attribute, allowing you to control how attributes are accessed, modified, and deleted, while still appearing as direct attribute access from outside the class.\n",
        "14. Why is polymorphism important in OOP?\n",
        "  - Polymorphism is important because it promotes flexibility, extensibility, and reusability in code. It allows you to write more generic code that can work with objects of different types, as long as they share a common interface or base class.\n",
        "15. What is an abstract class in Python?\n",
        "  - An abstract class is a class that cannot be instantiated directly and is meant to be subclassed. It typically contains one or more abstract methods, which are methods declared but not implemented in the abstract class, forcing subclasses to provide their own implementation.\n",
        "16. What are the advantages of OOP?\n",
        "  - Advantages of OOP include:\n",
        "Modularity: Code is organized into self-contained objects.\n",
        "Reusability: Inheritance allows code reuse.\n",
        "Maintainability: Easier to manage and update code.\n",
        "Scalability: Easier to add new features without affecting existing ones.\n",
        "Data Security: Encapsulation helps protect data.\n",
        "17. What is the difference between a class variable and an instance variable?\n",
        "  - Class variables are shared by all instances of a class and are defined within the class but outside any method.\n",
        "Instance variables are unique to each instance of a class and are defined within the __init__ method using self.\n",
        "18. What is multiple inheritance in Python?\n",
        "  - Multiple inheritance is a feature where a class can inherit from multiple parent classes, inheriting attributes and methods from all of them. This can lead to the \"diamond problem\" if not handled carefully.\n",
        "19. Explain the purpose of __str__ and __repr__ methods in Python.\n",
        "  - __str__ provides a human-readable string representation of an object, typically used for display to the end-user (e.g., with print()).\n",
        "  - __repr__ provides an unambiguous, developer-friendly string representation of an object, intended to be used for debugging and development (e.g., for recreating the object).\n",
        "20. What is the significance of the super() function in Python?\n",
        "  - The super() function is used in Python to call a method from the parent or sibling class. It is commonly used in inheritance to call the constructor of the parent class from the child class's constructor, or to access overridden methods in the parent class.\n",
        "21. What is the significance of the __del__ method in Python?\n",
        "  - The __del__ method, also known as the destructor, is called when an object is about to be destroyed (i.e., when its reference count drops to zero and it's garbage collected). It can be used to perform cleanup operations, such as closing files or releasing resources, although its use is generally discouraged in favor of context managers or explicit cleanup.\n",
        "22. What is the difference between @staticmethod and @classmethod in Python?\n",
        "  - As explained in question 10:\n",
        "@staticmethod methods do not receive any implicit first argument (neither self nor cls). They behave like regular functions but are logically grouped within a class.\n",
        "@classmethod methods receive the class itself (cls) as their first argument, allowing them to access or modify class-level attributes or create new instances of the class.\n",
        "23. How does polymorphism work in Python with inheritance?\n",
        "  - In Python, polymorphism with inheritance allows objects of different classes to be treated as objects of a common superclass. This is achieved through method overriding, where a subclass provides its own implementation of a method already defined in its parent class. When a method is called on an object, Python's dynamic typing determines the correct method to execute based on the object's actual type at runtime. This enables writing flexible and extensible code, as functions can operate on objects of various related classes without needing to know their specific types beforehand.\n",
        "24. What is method chaining in Python OOP?\n",
        "  - Method chaining in Python OOP is a technique that allows multiple method calls to be linked together in a single statement. This is achieved by having each method return the object itself (usually self), so that the next method can be called directly on the returned object. This creates a more concise and readable code style, often seen in fluent interfaces or builder patterns, where a series of operations are performed sequentially on an object.\n",
        "25. What is the purpose of the __call__ method in Python?\n",
        "  - The purpose of the __call__ method in Python is to make an instance of a class callable like a function. When this method is defined in a class, instances of that class can be invoked using parentheses, similar to how functions are called. This allows objects to behave as \"callable objects\" or \"functors,\" enabling them to encapsulate both data and behavior, and providing a convenient way to execute specific logic associated with an object when it's called."
      ],
      "metadata": {
        "id": "S7uZIgm5dZBZ"
      }
    },
    {
      "cell_type": "code",
      "source": [
        "# 1. Create a parent class Animal with a method speak() that prints a generic message. Create a child class Dog that overrides the speak() method to print \"Bark!\".\n",
        "\n",
        "class Animal:\n",
        "    def speak(self):\n",
        "        print(\"Generic animal sound\")\n",
        "\n",
        "class Dog(Animal):\n",
        "    def speak(self):\n",
        "        print(\"Bark!\")\n",
        "\n",
        "\n",
        "animal = Animal()\n",
        "animal.speak()\n",
        "\n",
        "dog = Dog()\n",
        "dog.speak()\n"
      ],
      "metadata": {
        "colab": {
          "base_uri": "https://localhost:8080/"
        },
        "id": "KHN0BkcRfU7R",
        "outputId": "a57b6599-4014-429f-954f-8a9a894c1c7f"
      },
      "execution_count": 5,
      "outputs": [
        {
          "output_type": "stream",
          "name": "stdout",
          "text": [
            "Generic animal sound\n",
            "Bark!\n"
          ]
        }
      ]
    },
    {
      "cell_type": "code",
      "source": [
        "# 2. Write a program to create an abstract class Shape with a method area(). Derive classes Circle and Rectangle from it and implement the area() method in both?\n",
        "\n",
        "from abc import ABC, abstractmethod\n",
        "import math\n",
        "\n",
        "class Shape(ABC):\n",
        "    @abstractmethod\n",
        "    def area(self):\n",
        "        pass\n",
        "\n",
        "class Circle(Shape):\n",
        "    def __init__(self, radius):\n",
        "        self.radius = radius\n",
        "\n",
        "    def area(self):\n",
        "        return math.pi * self.radius**2\n",
        "\n",
        "class Rectangle(Shape):\n",
        "    def __init__(self, length, width):\n",
        "        self.length = length\n",
        "        self.width = width\n",
        "\n",
        "    def area(self):\n",
        "        return self.length * self.width\n",
        "\n",
        "\n",
        "circle = Circle(5)\n",
        "print(f\"Area of circle: {circle.area()}\")\n",
        "\n",
        "rectangle = Rectangle(4, 6)\n",
        "print(f\"Area of rectangle: {rectangle.area()}\")"
      ],
      "metadata": {
        "colab": {
          "base_uri": "https://localhost:8080/"
        },
        "id": "3Qwf9lN8hItP",
        "outputId": "c01016a4-671f-43ca-a2de-cabd16076e4d"
      },
      "execution_count": 6,
      "outputs": [
        {
          "output_type": "stream",
          "name": "stdout",
          "text": [
            "Area of circle: 78.53981633974483\n",
            "Area of rectangle: 24\n"
          ]
        }
      ]
    },
    {
      "cell_type": "code",
      "source": [
        "# 3. Implement a multi-level inheritance scenario where a class Vehicle has an attribute type. Derive a class Car and further derive a class ElectricCar that adds a battery attribute ?\n",
        "\n",
        "class Vehicle:\n",
        "    def __init__(self, type):\n",
        "        self.type = type\n",
        "\n",
        "class Car(Vehicle):\n",
        "    def __init__(self, type, make):\n",
        "        super().__init__(type)\n",
        "        self.make = make\n",
        "\n",
        "class ElectricCar(Car):\n",
        "    def __init__(self, type, make, battery_capacity):\n",
        "        super().__init__(type, make)\n",
        "        self.battery_capacity = battery_capacity\n",
        "\n",
        "\n",
        "electric_car = ElectricCar(\"Electric\", \"Tesla\", \"75 kWh\")\n",
        "print(f\"Electric Car Type: {electric_car.type}, Make: {electric_car.make}, Battery: {electric_car.battery_capacity}\")"
      ],
      "metadata": {
        "colab": {
          "base_uri": "https://localhost:8080/"
        },
        "id": "Uv0Gitmbhl5O",
        "outputId": "73035de8-a933-40e6-b76c-c1d002612fd1"
      },
      "execution_count": 7,
      "outputs": [
        {
          "output_type": "stream",
          "name": "stdout",
          "text": [
            "Electric Car Type: Electric, Make: Tesla, Battery: 75 kWh\n"
          ]
        }
      ]
    },
    {
      "cell_type": "code",
      "source": [
        "# 4. Demonstrate polymorphism by creating a base class Bird with a method fly(), Create two derived classes (Example continues in the image, assuming two derived classes like Eagle and Penguin for demonstration) ?\n",
        "\n",
        "\n",
        "class Bird:\n",
        "    def fly(self):\n",
        "        print(\"Birds can fly.\")\n",
        "\n",
        "class Eagle(Bird):\n",
        "    def fly(self):\n",
        "        print(\"Eagles soar through the sky.\")\n",
        "\n",
        "class Penguin(Bird):\n",
        "    def fly(self):\n",
        "        print(\"Penguins cannot fly, but they can swim!\")\n",
        "\n",
        "# Example usage\n",
        "bird = Bird()\n",
        "bird.fly()\n",
        "\n",
        "eagle = Eagle()\n",
        "eagle.fly()\n",
        "\n",
        "penguin = Penguin()\n",
        "penguin.fly()"
      ],
      "metadata": {
        "colab": {
          "base_uri": "https://localhost:8080/"
        },
        "id": "DVFSLxJ8h2vT",
        "outputId": "97a59f7f-d9bb-442d-e384-5a2a85bc9a7e"
      },
      "execution_count": 8,
      "outputs": [
        {
          "output_type": "stream",
          "name": "stdout",
          "text": [
            "Birds can fly.\n",
            "Eagles soar through the sky.\n",
            "Penguins cannot fly, but they can swim!\n"
          ]
        }
      ]
    },
    {
      "cell_type": "code",
      "source": [
        "# 5. Write a program to demonstrate encapsulation by creating a class BankAccount with private attributes balance and methods to deposit, withdraw, and check balance?\n",
        "\n",
        "class BankAccount:\n",
        "    def __init__(self):\n",
        "        self.__balance = 0   # private attribute\n",
        "\n",
        "    def deposit(self, amount):\n",
        "        self.__balance += amount\n",
        "        print(f\"Deposited: {amount}\")\n",
        "\n",
        "    def withdraw(self, amount):\n",
        "        if amount <= self.__balance:\n",
        "            self.__balance -= amount\n",
        "            print(f\"Withdrawn: {amount}\")\n",
        "        else:\n",
        "            print(\"Insufficient balance!\")\n",
        "\n",
        "    def check_balance(self):\n",
        "        print(f\"Current Balance: {self.__balance}\")\n",
        "\n",
        "# Demo\n",
        "account = BankAccount()\n",
        "account.deposit(1000)\n",
        "account.withdraw(500)\n",
        "account.check_balance()"
      ],
      "metadata": {
        "colab": {
          "base_uri": "https://localhost:8080/"
        },
        "id": "mCoequGGiGzf",
        "outputId": "f66005dd-a0c9-49a1-9dad-9cd121fdd26d"
      },
      "execution_count": 9,
      "outputs": [
        {
          "output_type": "stream",
          "name": "stdout",
          "text": [
            "Deposited: 1000\n",
            "Withdrawn: 500\n",
            "Current Balance: 500\n"
          ]
        }
      ]
    },
    {
      "cell_type": "code",
      "source": [
        "# 6. Demonstrate runtime polymorphism using a method play() in a base class Instrument. Derive classes Guitar and Piano that implement their own version of play().?\n",
        "\n",
        "class Instrument:\n",
        "    def play(self):\n",
        "        print(\"Playing an instrument...\")\n",
        "\n",
        "class Guitar(Instrument):\n",
        "    def play(self):\n",
        "        print(\"Strumming the guitar 🎸\")\n",
        "\n",
        "class Piano(Instrument):\n",
        "    def play(self):\n",
        "        print(\"Playing the piano 🎹\")\n",
        "\n",
        "# Demo\n",
        "for inst in [Guitar(), Piano()]:\n",
        "    inst.play()"
      ],
      "metadata": {
        "colab": {
          "base_uri": "https://localhost:8080/"
        },
        "id": "VCeZsYqMkVju",
        "outputId": "0cc00b5c-29be-4151-dd46-6bdeb985a30d"
      },
      "execution_count": 10,
      "outputs": [
        {
          "output_type": "stream",
          "name": "stdout",
          "text": [
            "Strumming the guitar 🎸\n",
            "Playing the piano 🎹\n"
          ]
        }
      ]
    },
    {
      "cell_type": "code",
      "source": [
        "# 8. Implement a class Person with a class method to count the total number of persons created.\n",
        "\n",
        "\n",
        "\n",
        "class MathOperations:\n",
        "    @classmethod\n",
        "    def add_numbers(cls, a, b):\n",
        "        return a + b\n",
        "\n",
        "    @staticmethod\n",
        "    def subtract_numbers(a, b):\n",
        "        return a - b\n",
        "\n",
        "# Demo\n",
        "print(MathOperations.add_numbers(5, 3))\n",
        "print(MathOperations.subtract_numbers(10, 4))"
      ],
      "metadata": {
        "colab": {
          "base_uri": "https://localhost:8080/"
        },
        "id": "V3EjmVpZkdJH",
        "outputId": "a2b6a127-50f5-4ba9-f703-c8808d582e78"
      },
      "execution_count": 11,
      "outputs": [
        {
          "output_type": "stream",
          "name": "stdout",
          "text": [
            "8\n",
            "6\n"
          ]
        }
      ]
    },
    {
      "cell_type": "code",
      "source": [
        "# 9. Write a class Fraction with attributes numerator and denominator. Override the str method to display the fraction as 'numerator/denominator\".?\n",
        "\n",
        "\n",
        "class Person:\n",
        "    count = 0\n",
        "\n",
        "    def __init__(self, name):\n",
        "        self.name = name\n",
        "        Person.count += 1\n",
        "\n",
        "    @classmethod\n",
        "    def total_persons(cls):\n",
        "        return cls.count\n",
        "\n",
        "# Demo\n",
        "p1 = Person(\"Ragul\")\n",
        "p2 = Person(\"Pandian\")\n",
        "print(\"Total Persons:\", Person.total_persons())"
      ],
      "metadata": {
        "colab": {
          "base_uri": "https://localhost:8080/"
        },
        "id": "Lyb_My9skn3z",
        "outputId": "d95642f0-bbd5-41fd-ad68-4c2b497c2a91"
      },
      "execution_count": 12,
      "outputs": [
        {
          "output_type": "stream",
          "name": "stdout",
          "text": [
            "Total Persons: 2\n"
          ]
        }
      ]
    },
    {
      "cell_type": "code",
      "source": [
        "# 9. Write a class Fraction with attributes numerator and denominator. Override the str method to display the fraction as 'numerator/denominator\".?class Fraction:\n",
        "\n",
        "\n",
        "class Fraction:\n",
        "    def __init__(self, numerator, denominator):\n",
        "        self.numerator = numerator\n",
        "        self.denominator = denominator\n",
        "\n",
        "    def __str__(self):\n",
        "        return f\"{self.numerator}/{self.denominator}\"\n",
        "\n",
        "# Demo\n",
        "f = Fraction(3, 4)\n",
        "print(f)"
      ],
      "metadata": {
        "colab": {
          "base_uri": "https://localhost:8080/"
        },
        "id": "z4C_8DZdk6XK",
        "outputId": "f58faeba-a8d3-4e2e-88a3-7702f09b65a9"
      },
      "execution_count": 20,
      "outputs": [
        {
          "output_type": "stream",
          "name": "stdout",
          "text": [
            "3/4\n"
          ]
        }
      ]
    },
    {
      "cell_type": "code",
      "source": [
        "# 10. Demonstrate operator overloading by creating a class Vector and overriding the add method to add two vectors ?\n",
        "\n",
        "class Vector:\n",
        "    def __init__(self, x, y):\n",
        "        self.x = x\n",
        "        self.y = y\n",
        "\n",
        "    def __add__(self, other):\n",
        "        return Vector(self.x + other.x, self.y + other.y)\n",
        "\n",
        "    def __str__(self):\n",
        "        return f\"Vector({self.x}, {self.y})\"\n",
        "\n",
        "# Demo\n",
        "v1 = Vector(2, 4)\n",
        "v2 = Vector(5, 6)\n",
        "print(v1 + v2)"
      ],
      "metadata": {
        "colab": {
          "base_uri": "https://localhost:8080/"
        },
        "id": "5c0hEZjL3Lea",
        "outputId": "f289b8dc-2d50-4431-d678-39d55364c0e4"
      },
      "execution_count": 1,
      "outputs": [
        {
          "output_type": "stream",
          "name": "stdout",
          "text": [
            "Vector(7, 10)\n"
          ]
        }
      ]
    },
    {
      "cell_type": "code",
      "source": [
        "# 11. Create a class Person with attributes name and age. Add a method greet() that prints \"Hello, my name is [name) and I am {age} years old.\"?\n",
        "\n",
        "class Person:\n",
        "    def __init__(self, name, age):\n",
        "        self.name = name\n",
        "        self.age = age\n",
        "\n",
        "    def greet(self):\n",
        "        print(f\"Hello, my name is {self.name} and I am {self.age} years old.\")\n",
        "\n",
        "# Demo\n",
        "p = Person(\"Ragul\", 21)\n",
        "p.greet()"
      ],
      "metadata": {
        "colab": {
          "base_uri": "https://localhost:8080/"
        },
        "id": "maHyHCs17qlK",
        "outputId": "e3bcf47e-3490-46cc-b24d-1b98b576a975"
      },
      "execution_count": 2,
      "outputs": [
        {
          "output_type": "stream",
          "name": "stdout",
          "text": [
            "Hello, my name is Ragul and I am 21 years old.\n"
          ]
        }
      ]
    },
    {
      "cell_type": "code",
      "source": [
        "#12. Implement a class Student with attributes name and grades. Create a method average grade() to compute the average of the grades.?\n",
        "\n",
        "\n",
        "class Student:\n",
        "    def __init__(self, name, grades):\n",
        "        self.name = name\n",
        "        self.grades = grades\n",
        "\n",
        "    def average_grade(self):\n",
        "        return sum(self.grades) / len(self.grades)\n",
        "\n",
        "# Demo\n",
        "s = Student(\"Ragul\", [80, 90, 85])\n",
        "print(\"Average Grade:\", s.average_grade())"
      ],
      "metadata": {
        "colab": {
          "base_uri": "https://localhost:8080/"
        },
        "id": "IECk3Ktw74_R",
        "outputId": "86495fcb-97f3-40d5-9e0d-0c38fadc576a"
      },
      "execution_count": 3,
      "outputs": [
        {
          "output_type": "stream",
          "name": "stdout",
          "text": [
            "Average Grade: 85.0\n"
          ]
        }
      ]
    },
    {
      "cell_type": "code",
      "source": [
        "# 13. Create a class Rectangle with methods set_dimensions() to set the dimensions and area() to calculate the area.?\n",
        "\n",
        "class Rectangle:\n",
        "    def set_dimensions(self, length, width):\n",
        "        self.length = length\n",
        "        self.width = width\n",
        "\n",
        "    def area(self):\n",
        "        return self.length * self.width\n",
        "\n",
        "# Demo\n",
        "rect = Rectangle()\n",
        "rect.set_dimensions(10, 5)\n",
        "print(\"Area of rectangle:\", rect.area())"
      ],
      "metadata": {
        "colab": {
          "base_uri": "https://localhost:8080/"
        },
        "id": "SbbuPIr18GQy",
        "outputId": "1b4f4235-562b-407e-cbd7-f37c641bc257"
      },
      "execution_count": 4,
      "outputs": [
        {
          "output_type": "stream",
          "name": "stdout",
          "text": [
            "Area of rectangle: 50\n"
          ]
        }
      ]
    },
    {
      "cell_type": "code",
      "source": [
        "# 14. Create a class Employee with a method calculate_salary() that computes the salary based on hours worked and hourly rate. Create a derived class Manager that adds a bonus to the solary?\n",
        "\n",
        "\n",
        "class Employee:\n",
        "    def __init__(self, hours_worked, hourly_rate):\n",
        "        self.hours_worked = hours_worked\n",
        "        self.hourly_rate = hourly_rate\n",
        "\n",
        "    def calculate_salary(self):\n",
        "        return self.hours_worked * self.hourly_rate\n",
        "\n",
        "\n",
        "class Manager(Employee):\n",
        "    def __init__(self, hours_worked, hourly_rate, bonus):\n",
        "        super().__init__(hours_worked, hourly_rate)\n",
        "        self.bonus = bonus\n",
        "\n",
        "    def calculate_salary(self):\n",
        "        return super().calculate_salary() + self.bonus\n",
        "\n",
        "\n",
        "# Demo\n",
        "emp = Employee(40, 200)\n",
        "mgr = Manager(40, 200, 5000)\n",
        "\n",
        "print(\"Employee Salary:\", emp.calculate_salary())\n",
        "print(\"Manager Salary:\", mgr.calculate_salary())"
      ],
      "metadata": {
        "colab": {
          "base_uri": "https://localhost:8080/"
        },
        "id": "RxYl4rar8OQu",
        "outputId": "8424d557-fd7e-405f-b1bc-dd242ee64525"
      },
      "execution_count": 6,
      "outputs": [
        {
          "output_type": "stream",
          "name": "stdout",
          "text": [
            "Employee Salary: 8000\n",
            "Manager Salary: 13000\n"
          ]
        }
      ]
    },
    {
      "cell_type": "code",
      "source": [
        "# 15. Create a class Product with attributes name, price, and quantity. implement a method total_price() that calculates the total price of the product.?\n",
        "\n",
        "class Product:\n",
        "    def __init__(self, name, price, quantity):\n",
        "        self.name = name\n",
        "        self.price = price\n",
        "        self.quantity = quantity\n",
        "\n",
        "    def total_price(self):\n",
        "        return self.price * self.quantity\n",
        "\n",
        "\n",
        "# Demo\n",
        "p = Product(\"Laptop\", 50000, 2)\n",
        "print(\"Total Price:\", p.total_price())"
      ],
      "metadata": {
        "colab": {
          "base_uri": "https://localhost:8080/"
        },
        "id": "-qEUzHHl8zzC",
        "outputId": "36be3acf-054e-4a50-beae-ee1b7378e260"
      },
      "execution_count": 7,
      "outputs": [
        {
          "output_type": "stream",
          "name": "stdout",
          "text": [
            "Total Price: 100000\n"
          ]
        }
      ]
    },
    {
      "cell_type": "code",
      "source": [
        "# 16. Create a class Animal with an abstract method sound(). Create two derived classes Cow and Sheep that implement the sound() method.?\n",
        "\n",
        "from abc import ABC, abstractmethod\n",
        "\n",
        "class Animal(ABC):\n",
        "    @abstractmethod\n",
        "    def sound(self):\n",
        "        pass\n",
        "\n",
        "\n",
        "class Cow(Animal):\n",
        "    def sound(self):\n",
        "        return \"Moo\"\n",
        "\n",
        "\n",
        "class Sheep(Animal):\n",
        "    def sound(self):\n",
        "        return \"Baa\"\n",
        "\n",
        "\n",
        "# Demo\n",
        "cow = Cow()\n",
        "sheep = Sheep()\n",
        "print(\"Cow:\", cow.sound())\n",
        "print(\"Sheep:\", sheep.sound())"
      ],
      "metadata": {
        "colab": {
          "base_uri": "https://localhost:8080/"
        },
        "id": "m2HA2Kjj88eQ",
        "outputId": "33940e02-4470-4852-cd46-d382703b145b"
      },
      "execution_count": 8,
      "outputs": [
        {
          "output_type": "stream",
          "name": "stdout",
          "text": [
            "Cow: Moo\n",
            "Sheep: Baa\n"
          ]
        }
      ]
    },
    {
      "cell_type": "code",
      "source": [
        "# 17. Create a class Book with attributes title, author, and year published. Add a method get_book_info() that returns a formatted string with the book's details.?\n",
        "\n",
        "class Book:\n",
        "    def __init__(self, title, author, year):\n",
        "        self.title = title\n",
        "        self.author = author\n",
        "        self.year = year\n",
        "\n",
        "    def get_book_info(self):\n",
        "        return f\"'{self.title}' by {self.author}, published in {self.year}\"\n",
        "\n",
        "\n",
        "# Demo\n",
        "b = Book(\"Python Basics\", \"PW Skills\", 2023)\n",
        "print(b.get_book_info())"
      ],
      "metadata": {
        "colab": {
          "base_uri": "https://localhost:8080/"
        },
        "id": "7g0R7V089FFQ",
        "outputId": "126248d0-4bde-49c3-8278-ce58b1253569"
      },
      "execution_count": 9,
      "outputs": [
        {
          "output_type": "stream",
          "name": "stdout",
          "text": [
            "'Python Basics' by PW Skills, published in 2023\n"
          ]
        }
      ]
    },
    {
      "cell_type": "code",
      "source": [
        "# 18. Create a class House with attributes address and price. Create a derived class Mansion that adds an attribute number_of_rooms.?\n",
        "\n",
        "class House:\n",
        "    def __init__(self, address, price):\n",
        "        self.address = address\n",
        "        self.price = price\n",
        "\n",
        "\n",
        "class Mansion(House):\n",
        "    def __init__(self, address, price, number_of_rooms):\n",
        "        super().__init__(address, price)\n",
        "        self.number_of_rooms = number_of_rooms\n",
        "\n",
        "\n",
        "# Demo\n",
        "h = House(\"123 Street, Chennai\", 7500000)\n",
        "m = Mansion(\"456 Palace Rd, Bangalore\", 20000000, 20)\n",
        "\n",
        "print(\"House:\", h.address, \"-\", h.price)\n",
        "print(\"Mansion:\", m.address, \"-\", m.price, \"-\", m.number_of_rooms, \"rooms\")"
      ],
      "metadata": {
        "colab": {
          "base_uri": "https://localhost:8080/"
        },
        "id": "lTNsHi0d9Qp5",
        "outputId": "18cf8d84-1844-4819-d84f-ffde07f7d4d2"
      },
      "execution_count": 10,
      "outputs": [
        {
          "output_type": "stream",
          "name": "stdout",
          "text": [
            "House: 123 Street, Chennai - 7500000\n",
            "Mansion: 456 Palace Rd, Bangalore - 20000000 - 20 rooms\n"
          ]
        }
      ]
    }
  ]
}